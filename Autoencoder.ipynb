{
 "cells": [
  {
   "cell_type": "code",
   "execution_count": 337,
   "metadata": {},
   "outputs": [],
   "source": [
    "import keras\n",
    "import numpy as np\n",
    "\n",
    "import matplotlib.pyplot as plt\n",
    "from sklearn import datasets\n",
    "import mnist\n",
    "from itertools import permutations"
   ]
  },
  {
   "cell_type": "code",
   "execution_count": 309,
   "metadata": {},
   "outputs": [],
   "source": [
    "def build_model(input_shape, n_layers, kernel_size=3):\n",
    "    filter_sizes = [2 ** i for i in range(n_layers + 1)]\n",
    "    print(filter_sizes)\n",
    "    \n",
    "    inputs = keras.layers.Input(shape=(input_shape, input_shape, 1))\n",
    "    \n",
    "    # Convolution\n",
    "    x = inputs\n",
    "    for f in filter_sizes[1:-1]:\n",
    "        x = keras.layers.Conv2D(f, kernel_size=kernel_size, padding=\"same\", data_format=\"channels_last\")(x)\n",
    "        x = keras.layers.MaxPool2D(pool_size=2, )(x)\n",
    "       \n",
    "    # Intermediate conv/deconv\n",
    "    x = keras.layers.Conv2D(filter_sizes[-1], kernel_size=kernel_size, padding=\"same\", data_format=\"channels_last\")(x)\n",
    "    x = keras.layers.Deconv2D(filter_sizes[-2], kernel_size=kernel_size, padding=\"same\")(x)\n",
    "    \n",
    "    # Deconv\n",
    "    for f in filter_sizes[-3::-1]:\n",
    "        x = keras.layers.UpSampling2D(size=2, data_format=\"channels_last\")(x)\n",
    "        x = keras.layers.Deconv2D(f, kernel_size=kernel_size, padding=\"same\", data_format=\"channels_last\")(x)\n",
    "    \n",
    "\n",
    "    outputs = keras.layers.Dense(1, activation=\"sigmoid\")(x)\n",
    "    outputs = x\n",
    "\n",
    "    return keras.models.Model(inputs=inputs, outputs=outputs)"
   ]
  },
  {
   "cell_type": "code",
   "execution_count": 346,
   "metadata": {},
   "outputs": [],
   "source": [
    "# For images in format (px_row, px_col, im_row, im_col)\n",
    "def display_images(images):\n",
    "    dims = images.shape\n",
    "    \n",
    "    fig = plt.figure()\n",
    "    for i in range(dims[2]):\n",
    "        for j in range(dims[3]):\n",
    "            fig.add_subplot(dims[2], dims[3], i * dims[3] + j + 1)\n",
    "            plt.imshow(images[:,:,i,j])\n",
    "        \n",
    "    \n",
    "    "
   ]
  },
  {
   "cell_type": "markdown",
   "metadata": {},
   "source": [
    "---"
   ]
  },
  {
   "cell_type": "code",
   "execution_count": 235,
   "metadata": {},
   "outputs": [],
   "source": [
    "digits = mnist.train_images()\n",
    "img_width = digits.shape[1]\n",
    "data = np.reshape(digits, (-1, img_width, img_width, 1))"
   ]
  },
  {
   "cell_type": "code",
   "execution_count": 310,
   "metadata": {},
   "outputs": [
    {
     "name": "stdout",
     "output_type": "stream",
     "text": [
      "[1, 2, 4]\n"
     ]
    }
   ],
   "source": [
    "m = build_model(data.shape[1], 2)"
   ]
  },
  {
   "cell_type": "code",
   "execution_count": 311,
   "metadata": {},
   "outputs": [],
   "source": [
    "m.compile(optimizer=\"adam\", loss=\"mse\", metrics=[\"accuracy\"])"
   ]
  },
  {
   "cell_type": "code",
   "execution_count": 312,
   "metadata": {},
   "outputs": [
    {
     "name": "stdout",
     "output_type": "stream",
     "text": [
      "_________________________________________________________________\n",
      "Layer (type)                 Output Shape              Param #   \n",
      "=================================================================\n",
      "input_36 (InputLayer)        (None, 28, 28, 1)         0         \n",
      "_________________________________________________________________\n",
      "conv2d_103 (Conv2D)          (None, 28, 28, 2)         20        \n",
      "_________________________________________________________________\n",
      "max_pooling2d_60 (MaxPooling (None, 14, 14, 2)         0         \n",
      "_________________________________________________________________\n",
      "conv2d_104 (Conv2D)          (None, 14, 14, 4)         76        \n",
      "_________________________________________________________________\n",
      "conv2d_transpose_64 (Conv2DT (None, 14, 14, 2)         74        \n",
      "_________________________________________________________________\n",
      "up_sampling2d_42 (UpSampling (None, 28, 28, 2)         0         \n",
      "_________________________________________________________________\n",
      "conv2d_transpose_65 (Conv2DT (None, 28, 28, 1)         19        \n",
      "=================================================================\n",
      "Total params: 189\n",
      "Trainable params: 189\n",
      "Non-trainable params: 0\n",
      "_________________________________________________________________\n"
     ]
    }
   ],
   "source": [
    "m.summary()"
   ]
  },
  {
   "cell_type": "code",
   "execution_count": 313,
   "metadata": {},
   "outputs": [
    {
     "name": "stdout",
     "output_type": "stream",
     "text": [
      "Epoch 1/10\n",
      "1000/1000 [==============================] - 1s 1ms/step - loss: 4929.2961 - acc: 0.1732\n",
      "Epoch 2/10\n",
      "1000/1000 [==============================] - 0s 452us/step - loss: 2773.4480 - acc: 0.1672\n",
      "Epoch 3/10\n",
      "1000/1000 [==============================] - 0s 450us/step - loss: 2138.2061 - acc: 0.1734\n",
      "Epoch 4/10\n",
      "1000/1000 [==============================] - 0s 450us/step - loss: 1816.2130 - acc: 0.1782\n",
      "Epoch 5/10\n",
      "1000/1000 [==============================] - 0s 450us/step - loss: 1585.2473 - acc: 0.1827\n",
      "Epoch 6/10\n",
      "1000/1000 [==============================] - 0s 450us/step - loss: 1406.6883 - acc: 0.1852\n",
      "Epoch 7/10\n",
      "1000/1000 [==============================] - 0s 459us/step - loss: 1276.0639 - acc: 0.1870\n",
      "Epoch 8/10\n",
      "1000/1000 [==============================] - 0s 471us/step - loss: 1184.0510 - acc: 0.1878\n",
      "Epoch 9/10\n",
      "1000/1000 [==============================] - 0s 448us/step - loss: 1114.8570 - acc: 0.1883\n",
      "Epoch 10/10\n",
      "1000/1000 [==============================] - 0s 456us/step - loss: 1059.3826 - acc: 0.1767\n"
     ]
    },
    {
     "data": {
      "text/plain": [
       "<keras.callbacks.History at 0x47b728ec18>"
      ]
     },
     "execution_count": 313,
     "metadata": {},
     "output_type": "execute_result"
    }
   ],
   "source": [
    "m.fit(data[:1000], data[:1000], epochs=10)"
   ]
  },
  {
   "cell_type": "code",
   "execution_count": 123,
   "metadata": {},
   "outputs": [
    {
     "data": {
      "text/plain": [
       "array([[[[0.29662204],\n",
       "         [0.49888924],\n",
       "         [0.38611913],\n",
       "         [0.39763016],\n",
       "         [0.33414683],\n",
       "         [0.4433639 ],\n",
       "         [0.25875688],\n",
       "         [0.37537253],\n",
       "         [0.2800975 ],\n",
       "         [0.30345958],\n",
       "         [0.281769  ],\n",
       "         [0.41610926],\n",
       "         [0.50056297],\n",
       "         [0.41695967],\n",
       "         [0.42310295],\n",
       "         [0.48770422]],\n",
       "\n",
       "        [[0.47483802],\n",
       "         [0.40165296],\n",
       "         [0.24849257],\n",
       "         [0.27775642],\n",
       "         [0.2952069 ],\n",
       "         [0.279701  ],\n",
       "         [0.2565205 ],\n",
       "         [0.31139967],\n",
       "         [0.41285837],\n",
       "         [0.26894546],\n",
       "         [0.42226335],\n",
       "         [0.45314327],\n",
       "         [0.34328222],\n",
       "         [0.4637191 ],\n",
       "         [0.37127203],\n",
       "         [0.25763148]],\n",
       "\n",
       "        [[0.4028988 ],\n",
       "         [0.266316  ],\n",
       "         [0.33882278],\n",
       "         [0.43309036],\n",
       "         [0.41649053],\n",
       "         [0.46052963],\n",
       "         [0.4331315 ],\n",
       "         [0.4052495 ],\n",
       "         [0.32462746],\n",
       "         [0.3739755 ],\n",
       "         [0.45089763],\n",
       "         [0.48195344],\n",
       "         [0.255598  ],\n",
       "         [0.31208953],\n",
       "         [0.3093164 ],\n",
       "         [0.43676835]],\n",
       "\n",
       "        [[0.3396417 ],\n",
       "         [0.3384658 ],\n",
       "         [0.2809151 ],\n",
       "         [0.43784568],\n",
       "         [0.39478767],\n",
       "         [0.5010066 ],\n",
       "         [0.49300233],\n",
       "         [0.32851535],\n",
       "         [0.44641066],\n",
       "         [0.39022055],\n",
       "         [0.41764396],\n",
       "         [0.35150293],\n",
       "         [0.34324196],\n",
       "         [0.2889179 ],\n",
       "         [0.30097845],\n",
       "         [0.35575262]],\n",
       "\n",
       "        [[0.3144351 ],\n",
       "         [0.27028164],\n",
       "         [0.49440506],\n",
       "         [0.2557948 ],\n",
       "         [0.43267202],\n",
       "         [0.42631388],\n",
       "         [0.31951118],\n",
       "         [0.4540286 ],\n",
       "         [0.4415089 ],\n",
       "         [0.3165735 ],\n",
       "         [0.33749336],\n",
       "         [0.4876322 ],\n",
       "         [0.4438263 ],\n",
       "         [0.30399472],\n",
       "         [0.44661623],\n",
       "         [0.3908138 ]],\n",
       "\n",
       "        [[0.28405035],\n",
       "         [0.38285908],\n",
       "         [0.4434509 ],\n",
       "         [0.44499698],\n",
       "         [0.40882066],\n",
       "         [0.46208084],\n",
       "         [0.35066852],\n",
       "         [0.3383577 ],\n",
       "         [0.45204598],\n",
       "         [0.3653836 ],\n",
       "         [0.46359372],\n",
       "         [0.30408043],\n",
       "         [0.2510817 ],\n",
       "         [0.24995182],\n",
       "         [0.25851023],\n",
       "         [0.36842355]],\n",
       "\n",
       "        [[0.3197097 ],\n",
       "         [0.43710586],\n",
       "         [0.46199864],\n",
       "         [0.33236876],\n",
       "         [0.4864334 ],\n",
       "         [0.40517285],\n",
       "         [0.47381186],\n",
       "         [0.2934532 ],\n",
       "         [0.28251764],\n",
       "         [0.3846962 ],\n",
       "         [0.45588532],\n",
       "         [0.47181576],\n",
       "         [0.39403373],\n",
       "         [0.2648449 ],\n",
       "         [0.25415954],\n",
       "         [0.35731217]],\n",
       "\n",
       "        [[0.31348467],\n",
       "         [0.47341186],\n",
       "         [0.39469525],\n",
       "         [0.42620483],\n",
       "         [0.33675665],\n",
       "         [0.48238507],\n",
       "         [0.31034833],\n",
       "         [0.4965855 ],\n",
       "         [0.38677514],\n",
       "         [0.44822103],\n",
       "         [0.45258647],\n",
       "         [0.31667987],\n",
       "         [0.29828522],\n",
       "         [0.40274715],\n",
       "         [0.44142145],\n",
       "         [0.30324996]],\n",
       "\n",
       "        [[0.36854112],\n",
       "         [0.4920209 ],\n",
       "         [0.4794549 ],\n",
       "         [0.3778896 ],\n",
       "         [0.43423486],\n",
       "         [0.24769306],\n",
       "         [0.41283098],\n",
       "         [0.5000303 ],\n",
       "         [0.27337754],\n",
       "         [0.48203775],\n",
       "         [0.38498762],\n",
       "         [0.25419977],\n",
       "         [0.26732108],\n",
       "         [0.47629714],\n",
       "         [0.49078023],\n",
       "         [0.2916129 ]],\n",
       "\n",
       "        [[0.26117095],\n",
       "         [0.43994364],\n",
       "         [0.2568942 ],\n",
       "         [0.25974196],\n",
       "         [0.3159159 ],\n",
       "         [0.3613749 ],\n",
       "         [0.3165778 ],\n",
       "         [0.38574928],\n",
       "         [0.39007595],\n",
       "         [0.347735  ],\n",
       "         [0.449918  ],\n",
       "         [0.380079  ],\n",
       "         [0.44985884],\n",
       "         [0.36415926],\n",
       "         [0.4833065 ],\n",
       "         [0.25376633]],\n",
       "\n",
       "        [[0.27774182],\n",
       "         [0.2783397 ],\n",
       "         [0.48727223],\n",
       "         [0.43491998],\n",
       "         [0.46355703],\n",
       "         [0.31903556],\n",
       "         [0.276008  ],\n",
       "         [0.4319899 ],\n",
       "         [0.29413185],\n",
       "         [0.42017168],\n",
       "         [0.48127866],\n",
       "         [0.27450615],\n",
       "         [0.31413373],\n",
       "         [0.36312044],\n",
       "         [0.41007665],\n",
       "         [0.36230278]],\n",
       "\n",
       "        [[0.48166808],\n",
       "         [0.3958517 ],\n",
       "         [0.3897541 ],\n",
       "         [0.47972512],\n",
       "         [0.3890496 ],\n",
       "         [0.29585597],\n",
       "         [0.4487454 ],\n",
       "         [0.30095664],\n",
       "         [0.3806755 ],\n",
       "         [0.45844388],\n",
       "         [0.28510547],\n",
       "         [0.29150575],\n",
       "         [0.29698032],\n",
       "         [0.36312106],\n",
       "         [0.40581578],\n",
       "         [0.48367345]],\n",
       "\n",
       "        [[0.27955148],\n",
       "         [0.31133673],\n",
       "         [0.29408863],\n",
       "         [0.27457726],\n",
       "         [0.26465333],\n",
       "         [0.3913487 ],\n",
       "         [0.2662204 ],\n",
       "         [0.28845912],\n",
       "         [0.37976205],\n",
       "         [0.47150788],\n",
       "         [0.3730043 ],\n",
       "         [0.4991491 ],\n",
       "         [0.24653697],\n",
       "         [0.24962096],\n",
       "         [0.34098822],\n",
       "         [0.49704403]],\n",
       "\n",
       "        [[0.25566983],\n",
       "         [0.4129291 ],\n",
       "         [0.2692481 ],\n",
       "         [0.408917  ],\n",
       "         [0.24689578],\n",
       "         [0.38213083],\n",
       "         [0.4901261 ],\n",
       "         [0.38568497],\n",
       "         [0.31651282],\n",
       "         [0.4426275 ],\n",
       "         [0.3753922 ],\n",
       "         [0.4468437 ],\n",
       "         [0.37776843],\n",
       "         [0.29839993],\n",
       "         [0.31475016],\n",
       "         [0.3614303 ]],\n",
       "\n",
       "        [[0.2558207 ],\n",
       "         [0.37726974],\n",
       "         [0.48621404],\n",
       "         [0.47511777],\n",
       "         [0.46809703],\n",
       "         [0.4851473 ],\n",
       "         [0.2797158 ],\n",
       "         [0.44549158],\n",
       "         [0.50116104],\n",
       "         [0.2899115 ],\n",
       "         [0.365103  ],\n",
       "         [0.3926118 ],\n",
       "         [0.33349937],\n",
       "         [0.26321694],\n",
       "         [0.3943639 ],\n",
       "         [0.37491554]],\n",
       "\n",
       "        [[0.40376598],\n",
       "         [0.49191096],\n",
       "         [0.4267825 ],\n",
       "         [0.3422409 ],\n",
       "         [0.44997633],\n",
       "         [0.3177931 ],\n",
       "         [0.3786246 ],\n",
       "         [0.45101964],\n",
       "         [0.47808754],\n",
       "         [0.35970628],\n",
       "         [0.33326524],\n",
       "         [0.4357028 ],\n",
       "         [0.29865515],\n",
       "         [0.29205385],\n",
       "         [0.3012916 ],\n",
       "         [0.37991336]]]], dtype=float32)"
      ]
     },
     "execution_count": 123,
     "metadata": {},
     "output_type": "execute_result"
    }
   ],
   "source": [
    "m.predict(data[0:1,])"
   ]
  },
  {
   "cell_type": "code",
   "execution_count": 314,
   "metadata": {},
   "outputs": [
    {
     "data": {
      "text/plain": [
       "<matplotlib.image.AxesImage at 0x47b77cd828>"
      ]
     },
     "execution_count": 314,
     "metadata": {},
     "output_type": "execute_result"
    },
    {
     "data": {
      "image/png": "[encoded data removed]",
      "text/plain": [
       "<Figure size 432x288 with 1 Axes>"
      ]
     },
     "metadata": {
      "needs_background": "light"
     },
     "output_type": "display_data"
    }
   ],
   "source": [
    "plt.imshow(np.reshape(data[2:3,], (28, 28)))"
   ]
  },
  {
   "cell_type": "code",
   "execution_count": 315,
   "metadata": {},
   "outputs": [
    {
     "data": {
      "text/plain": [
       "<matplotlib.image.AxesImage at 0x47b77eaa90>"
      ]
     },
     "execution_count": 315,
     "metadata": {},
     "output_type": "execute_result"
    },
    {
     "data": {
      "image/png": "[encoded data removed]",
      "text/plain": [
       "<Figure size 432x288 with 1 Axes>"
      ]
     },
     "metadata": {
      "needs_background": "light"
     },
     "output_type": "display_data"
    }
   ],
   "source": [
    "plt.imshow(np.reshape(m.predict(data[2:3,]), (28, 28)))"
   ]
  },
  {
   "cell_type": "code",
   "execution_count": 322,
   "metadata": {},
   "outputs": [
    {
     "data": {
      "text/plain": [
       "(3, 3, 2, 4)"
      ]
     },
     "execution_count": 322,
     "metadata": {},
     "output_type": "execute_result"
    }
   ],
   "source": [
    "m.layers[3].get_weights()[0].shape"
   ]
  },
  {
   "cell_type": "code",
   "execution_count": 333,
   "metadata": {},
   "outputs": [
    {
     "data": {
      "text/plain": [
       "<matplotlib.image.AxesImage at 0x47b7be4320>"
      ]
     },
     "execution_count": 333,
     "metadata": {},
     "output_type": "execute_result"
    },
    {
     "data": {
      "image/png": "[encoded data removed]",
      "text/plain": [
       "<Figure size 432x288 with 1 Axes>"
      ]
     },
     "metadata": {
      "needs_background": "light"
     },
     "output_type": "display_data"
    }
   ],
   "source": [
    "plt.imshow(m.layers[3].get_weights()[0][:,:,0,0])\n",
    "# np.reshape(m.layers[1].get_weights()[0], (3,3,2))[:,:,0]\n",
    "# plt.imshow(np.reshape(m.layers[1].get_weights()[0], (3,3,2))[:,:,0])"
   ]
  },
  {
   "cell_type": "code",
   "execution_count": 302,
   "metadata": {},
   "outputs": [
    {
     "data": {
      "text/plain": [
       "(3, 3, 1, 2)"
      ]
     },
     "execution_count": 302,
     "metadata": {},
     "output_type": "execute_result"
    }
   ],
   "source": [
    "m.layers[1].get_weights()[0].shape"
   ]
  },
  {
   "cell_type": "code",
   "execution_count": 334,
   "metadata": {},
   "outputs": [
    {
     "data": {
      "text/plain": [
       "<matplotlib.image.AxesImage at 0x47b7c364e0>"
      ]
     },
     "execution_count": 334,
     "metadata": {},
     "output_type": "execute_result"
    },
    {
     "data": {
      "image/png": "[encoded data removed]",
      "text/plain": [
       "<Figure size 432x288 with 1 Axes>"
      ]
     },
     "metadata": {
      "needs_background": "light"
     },
     "output_type": "display_data"
    }
   ],
   "source": [
    "plt.imshow(m.layers[1].get_weights()[0][:,:,0,0])\n",
    "# np.reshape(m.layers[1].get_weights()[0], (3,3,2))[:,:,0]\n",
    "# plt.imshow(np.reshape(m.layers[1].get_weights()[0], (3,3,2))[:,:,0])"
   ]
  },
  {
   "cell_type": "code",
   "execution_count": 347,
   "metadata": {},
   "outputs": [
    {
     "data": {
      "image/png": "[encoded data removed]",
      "text/plain": [
       "<Figure size 432x288 with 8 Axes>"
      ]
     },
     "metadata": {
      "needs_background": "light"
     },
     "output_type": "display_data"
    }
   ],
   "source": [
    "display_images(m.layers[3].get_weights()[0])"
   ]
  },
  {
   "cell_type": "code",
   "execution_count": 345,
   "metadata": {},
   "outputs": [
    {
     "data": {
      "text/plain": [
       "(3, 3, 2, 4)"
      ]
     },
     "execution_count": 345,
     "metadata": {},
     "output_type": "execute_result"
    }
   ],
   "source": [
    "m.layers[3].get_weights()[0].shape"
   ]
  },
  {
   "cell_type": "code",
   "execution_count": null,
   "metadata": {},
   "outputs": [],
   "source": []
  }
 ],
 "metadata": {
  "kernelspec": {
   "display_name": "Python 3",
   "language": "python",
   "name": "python3"
  },
  "language_info": {
   "codemirror_mode": {
    "name": "ipython",
    "version": 3
   },
   "file_extension": ".py",
   "mimetype": "text/x-python",
   "name": "python",
   "nbconvert_exporter": "python",
   "pygments_lexer": "ipython3",
   "version": "3.6.6"
  }
 },
 "nbformat": 4,
 "nbformat_minor": 2
}
